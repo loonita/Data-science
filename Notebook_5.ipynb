{
  "nbformat": 4,
  "nbformat_minor": 0,
  "metadata": {
    "kernelspec": {
      "display_name": "Python 3",
      "language": "python",
      "name": "python3"
    },
    "language_info": {
      "codemirror_mode": {
        "name": "ipython",
        "version": 3
      },
      "file_extension": ".py",
      "mimetype": "text/x-python",
      "name": "python",
      "nbconvert_exporter": "python",
      "pygments_lexer": "ipython3",
      "version": "3.7.3"
    },
    "colab": {
      "provenance": [],
      "include_colab_link": true
    }
  },
  "cells": [
    {
      "cell_type": "markdown",
      "metadata": {
        "id": "view-in-github",
        "colab_type": "text"
      },
      "source": [
        "<a href=\"https://colab.research.google.com/github/loonita/Data-science/blob/main/Notebook_5.ipynb\" target=\"_parent\"><img src=\"https://colab.research.google.com/assets/colab-badge.svg\" alt=\"Open In Colab\"/></a>"
      ]
    },
    {
      "cell_type": "markdown",
      "metadata": {
        "id": "Gp2WddtV9IwG"
      },
      "source": [
        "# Programa Ingenias+ Data Science"
      ]
    },
    {
      "cell_type": "markdown",
      "metadata": {
        "id": "H4M1yVbf9IwH"
      },
      "source": [
        "Como dijimos en clases anteriores, Python tiene implementadas muchas librerias para poder trabajar con datos. En la clase de hoy trabajaremos con una de ellas: `Numpy`."
      ]
    },
    {
      "cell_type": "markdown",
      "metadata": {
        "id": "GdTT8WeL9IwI"
      },
      "source": [
        "Antes de comenzar, vamos a hablar un poco de esta libreria o modulo.\n",
        "\n",
        "**Numpy** es una librería optimizada para realizar cálculos numéricos con vectores y matrices. A diferencia de otros lenguajes de programación, Python no posee en su estructura central la figura de matrices. Eso quiere decir que para poder trabajar con esta estructura de datos deberiamos trabajar con listas de listas. NumPy introduce el concepto de arrays o matrices."
      ]
    },
    {
      "cell_type": "markdown",
      "metadata": {
        "id": "qWkq3EHK9IwK"
      },
      "source": [
        "Al ser de código abierto, `numpy` posee una documentación muy amplia que es **SIEMPRE RECOMENDABLE** consultar."
      ]
    },
    {
      "cell_type": "markdown",
      "metadata": {
        "id": "nxe3KLUO9IwL"
      },
      "source": [
        "- [Documentacion NumPy](https://devdocs.io/numpy/)"
      ]
    },
    {
      "cell_type": "markdown",
      "metadata": {
        "id": "l1Ay3nSs9IwN"
      },
      "source": [
        "## Clase 4: Introduccion a NumPy"
      ]
    },
    {
      "cell_type": "markdown",
      "metadata": {
        "id": "X03mviQS9IyL"
      },
      "source": [
        "# Ejercicios\n",
        "\n",
        "1. Crear un arreglo de ceros de longitud 12\n",
        "2. Crear un arreglo de longitud 10 con ceros en todas sus posiciones y un 10 en la posición número 5\n",
        "3. Crear un arreglo que tenga los números del 10 al 49\n",
        "4. Crear una arreglo 2d de shape (3, 3) que tenga los números del 0 al 8\n",
        "5. Crear un arreglo de números aleatorios de longitud 100 y obtener su media y varianza\n",
        "6. Calcular la media de un arreglo usando np.sum\n",
        "7. Calcular la varianza de un arreglo usando np.sum y np.mean\n",
        "8. Crear un array de números aleatorios usando np.random.randn.\n"
      ]
    },
    {
      "cell_type": "code",
      "metadata": {
        "id": "G0NMKT609IyM"
      },
      "source": [
        "import pandas as pd\n",
        "import numpy as np"
      ],
      "execution_count": 2,
      "outputs": []
    },
    {
      "cell_type": "code",
      "source": [
        "variable = 1+2\n",
        "print (variable)"
      ],
      "metadata": {
        "id": "CnBF1FSs9NAH",
        "outputId": "3595901d-04ef-45a0-f8f1-195f5d0fef1c",
        "colab": {
          "base_uri": "https://localhost:8080/"
        }
      },
      "execution_count": 3,
      "outputs": [
        {
          "output_type": "stream",
          "name": "stdout",
          "text": [
            "3\n"
          ]
        }
      ]
    },
    {
      "cell_type": "code",
      "source": [
        "arreglo = np.zeros(12)\n",
        "print(arreglo)"
      ],
      "metadata": {
        "id": "v-6ODAwV-ZiN",
        "outputId": "a5a18e8f-3e45-4456-96d7-54e6e8920295",
        "colab": {
          "base_uri": "https://localhost:8080/"
        }
      },
      "execution_count": 4,
      "outputs": [
        {
          "output_type": "stream",
          "name": "stdout",
          "text": [
            "[0. 0. 0. 0. 0. 0. 0. 0. 0. 0. 0. 0.]\n"
          ]
        }
      ]
    },
    {
      "cell_type": "code",
      "source": [
        "arreglo1 = [0] * 10\n",
        "arreglo2 = arreglo1\n",
        "arreglo2[4] = 10 # posicion 5 = indice 4\n",
        "\n",
        "print(arreglo2)"
      ],
      "metadata": {
        "id": "-ss0V1zG-lCp",
        "outputId": "f5bb0878-1ed5-4308-aa23-62f8c0ccd301",
        "colab": {
          "base_uri": "https://localhost:8080/"
        }
      },
      "execution_count": 7,
      "outputs": [
        {
          "output_type": "stream",
          "name": "stdout",
          "text": [
            "[0, 0, 0, 0, 10, 0, 0, 0, 0, 0]\n"
          ]
        }
      ]
    },
    {
      "cell_type": "code",
      "source": [
        "#listas\n",
        "arreglo = list(range(10, 50))\n",
        "print(arreglo)"
      ],
      "metadata": {
        "id": "Aori051MA7FH",
        "outputId": "f59b8716-69f3-48d1-d057-dad0211dfb9f",
        "colab": {
          "base_uri": "https://localhost:8080/"
        }
      },
      "execution_count": 8,
      "outputs": [
        {
          "output_type": "stream",
          "name": "stdout",
          "text": [
            "[10, 11, 12, 13, 14, 15, 16, 17, 18, 19, 20, 21, 22, 23, 24, 25, 26, 27, 28, 29, 30, 31, 32, 33, 34, 35, 36, 37, 38, 39, 40, 41, 42, 43, 44, 45, 46, 47, 48, 49]\n"
          ]
        }
      ]
    },
    {
      "cell_type": "code",
      "source": [
        "#crear lista\n",
        "arreglo_ej_4 = np.arange(0, 9)\n",
        "arreglo = np.array(arreglo_ej_4)\n",
        "arreglo_2d = arreglo.reshape(3, 3)\n",
        "\n",
        "print(arreglo_2d)\n",
        "print(type(arreglo_2d))"
      ],
      "metadata": {
        "id": "4clrwvKuBmAf",
        "outputId": "27230d9a-13b4-41ed-b399-67bc3c65dcb7",
        "colab": {
          "base_uri": "https://localhost:8080/"
        }
      },
      "execution_count": 9,
      "outputs": [
        {
          "output_type": "stream",
          "name": "stdout",
          "text": [
            "[[0 1 2]\n",
            " [3 4 5]\n",
            " [6 7 8]]\n",
            "<class 'numpy.ndarray'>\n"
          ]
        }
      ]
    },
    {
      "cell_type": "code",
      "source": [
        "arreglo = np.random.random(100)\n",
        "print('arreglo de numeros aleatorios', arreglo)"
      ],
      "metadata": {
        "id": "FDnCt1aVC61-",
        "outputId": "b0af141d-ecb2-4236-9c45-eb337a1107eb",
        "colab": {
          "base_uri": "https://localhost:8080/"
        }
      },
      "execution_count": 11,
      "outputs": [
        {
          "output_type": "stream",
          "name": "stdout",
          "text": [
            "arreglo de numeros aleatorios [9.28397155e-01 7.31510355e-01 5.32072296e-01 9.08059056e-01\n",
            " 6.46175643e-01 9.71710846e-01 5.24417007e-01 8.88581022e-01\n",
            " 4.11552170e-01 4.18721610e-01 5.21418978e-01 4.01323209e-01\n",
            " 8.46335674e-01 1.08118265e-01 2.91886971e-01 4.48237415e-01\n",
            " 8.74129788e-01 1.42601068e-01 3.41989969e-01 1.04387061e-01\n",
            " 9.57887844e-01 2.40341513e-01 9.29539510e-01 4.42477282e-01\n",
            " 1.68123343e-01 7.36699271e-01 1.53505195e-01 3.83050888e-01\n",
            " 3.62474946e-01 6.38128105e-01 8.41651060e-01 8.60959724e-01\n",
            " 6.43997574e-01 1.91884757e-01 2.85038123e-01 7.43252288e-01\n",
            " 3.48598427e-01 3.28940285e-01 2.48746573e-01 3.31793449e-01\n",
            " 1.10378463e-01 6.05636974e-01 4.14321547e-01 5.33135429e-01\n",
            " 3.95023705e-01 6.81195564e-01 2.65021959e-02 9.25022410e-01\n",
            " 4.36087068e-01 1.78882550e-01 2.93241660e-01 2.06507290e-01\n",
            " 7.67718455e-01 3.13619888e-01 8.36312886e-02 7.30796835e-01\n",
            " 6.53132240e-01 5.30996695e-01 1.53026384e-01 2.52126878e-01\n",
            " 5.06624464e-01 7.06639029e-01 9.99563789e-01 2.37220057e-01\n",
            " 5.07241846e-01 8.01320370e-01 3.54684336e-02 9.65430277e-01\n",
            " 5.06624150e-01 4.96961750e-01 2.66752031e-01 6.68960684e-01\n",
            " 2.11456124e-01 4.71667856e-01 6.64182798e-01 8.30788273e-01\n",
            " 9.83248986e-04 7.60987773e-01 4.91076990e-01 9.27611958e-01\n",
            " 5.43347669e-02 4.41987407e-01 2.49208825e-01 2.29885395e-02\n",
            " 1.60035503e-02 5.10018195e-01 1.25163139e-01 7.25685676e-01\n",
            " 1.65386722e-01 2.54901989e-01 3.89535437e-01 4.84135920e-03\n",
            " 9.09385644e-01 7.89902085e-01 3.36636474e-01 1.15322804e-01\n",
            " 9.76132236e-01 9.37939366e-01 9.53861935e-02 3.21068143e-01]\n"
          ]
        }
      ]
    },
    {
      "cell_type": "code",
      "source": [
        "arreglo = np.random.random(100)\n",
        "suma = np.sum(arreglo)\n",
        "tamano = np.size(arreglo)\n",
        "media = suma / tamano\n",
        "\n",
        "print ('media del arreglo', media)"
      ],
      "metadata": {
        "id": "p9eTM2LWDci-",
        "outputId": "fec7ca60-bac8-4e9a-f502-4a3d349e9dc9",
        "colab": {
          "base_uri": "https://localhost:8080/"
        }
      },
      "execution_count": 13,
      "outputs": [
        {
          "output_type": "stream",
          "name": "stdout",
          "text": [
            "media del arreglo 0.5319880210133491\n"
          ]
        }
      ]
    },
    {
      "cell_type": "code",
      "source": [
        "\n",
        "arreglo = np.random.random"
      ],
      "metadata": {
        "id": "ssAzzwxsFKXY"
      },
      "execution_count": null,
      "outputs": []
    }
  ]
}